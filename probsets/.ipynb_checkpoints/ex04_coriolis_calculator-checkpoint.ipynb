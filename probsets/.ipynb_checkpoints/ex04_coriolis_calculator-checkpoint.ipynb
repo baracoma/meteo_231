{
 "cells": [
  {
   "cell_type": "markdown",
   "id": "0330a392-bde4-41e9-8ffc-d68b27022cc1",
   "metadata": {},
   "source": [
    "# Ex 04a. Coriolis Parameter Calculator\n",
    "\n",
    "1. Define a function to calculate __coriolis parameter (f)__  with respect to __latitude__ ($\\varphi$).  \n",
    "The coriolis parameter is defined as  \n",
    "$f = 2\\Omega\\sin\\varphi$  \n",
    "where  \n",
    "$\\Omega = $ rotation of earth  \n",
    "$\\varphi = $ latitude\n",
    "2. For each latitude 10 degrees north or south of the equator, calculate $f$, save as list.\n",
    "3. Print $f$ for every $\\varphi$.\n",
    "\n",
    "#### Points System\n",
    "__5 points__ for imports, function definition, variable definition (including constants)   \n",
    "__2.5 points__ for calculating $f$ for every 10 degrees  \n",
    "__2.5__ points for printing both lists of $f$ and $\\varphi$\n"
   ]
  },
  {
   "cell_type": "code",
   "execution_count": null,
   "id": "0d83bd0a-b4b9-4b7f-98f4-63f41d456567",
   "metadata": {},
   "outputs": [],
   "source": []
  },
  {
   "cell_type": "markdown",
   "id": "6f753f20-cc12-4652-9b23-4f4468aba37f",
   "metadata": {
    "tags": []
   },
   "source": [
    "# Ex 04b. Plotting The Coriolis Parameter\n",
    "1. In your new environment (meteo231), install [matplotlib](https://matplotlib.org/stable/users/installing/index.html). Recall lecture on [Modules](../notebooks/03c_modules.ipynb).\n",
    "2. Display the current environment by running the cell below."
   ]
  },
  {
   "cell_type": "code",
   "execution_count": null,
   "id": "7483127e-f66c-4852-ac77-15fda050178a",
   "metadata": {},
   "outputs": [],
   "source": [
    "import sys\n",
    "print(sys.executable)"
   ]
  },
  {
   "cell_type": "markdown",
   "id": "7a62cf56-e9e3-4965-9cb8-e7795716ac1e",
   "metadata": {},
   "source": [
    "3. Import `matplotlib.pyplot as plt` by running the cell below. It should not show errors.  \n",
    "```NOTE: you might need to restart your kernel after successful installation of matplotlib (click Kernel, Restart kernel)```"
   ]
  },
  {
   "cell_type": "code",
   "execution_count": null,
   "id": "71350685-ce26-46b0-8bae-346eee2282b4",
   "metadata": {},
   "outputs": [],
   "source": [
    "import matplotlib.pyplot as plt"
   ]
  },
  {
   "cell_type": "markdown",
   "id": "5cf0d9ba-4b04-40d4-aacd-55c40a8771ae",
   "metadata": {},
   "source": [
    "Recall the [simple plot in our first lecture](../notebooks/00_simple_plot.ipynb) and [importing a submodule](../notebooks/03c_modules.ipynb). Plotting can be as easy as...  \n",
    "`plt(x,y)`  \n",
    "where x and y are lists of your data.\n",
    "\n",
    "4. In a simple plot, plot the coriolis parameter $f$ as a function of latitude $\\varphi$\n",
    "\n",
    "#### Points System\n",
    "__2.5 points__ correct environment  (path shows meteo231)  \n",
    "__2.5 points__ matplotlib installed (e.g. no errors)  \n",
    "__5 points__ for the plot  "
   ]
  },
  {
   "cell_type": "code",
   "execution_count": null,
   "id": "e2dd260a-0e74-49e1-b1c1-d57b0ae06909",
   "metadata": {},
   "outputs": [],
   "source": []
  }
 ],
 "metadata": {
  "kernelspec": {
   "display_name": "meteo231",
   "language": "python",
   "name": "meteo231"
  },
  "language_info": {
   "codemirror_mode": {
    "name": "ipython",
    "version": 3
   },
   "file_extension": ".py",
   "mimetype": "text/x-python",
   "name": "python",
   "nbconvert_exporter": "python",
   "pygments_lexer": "ipython3",
   "version": "3.7.16"
  }
 },
 "nbformat": 4,
 "nbformat_minor": 5
}
