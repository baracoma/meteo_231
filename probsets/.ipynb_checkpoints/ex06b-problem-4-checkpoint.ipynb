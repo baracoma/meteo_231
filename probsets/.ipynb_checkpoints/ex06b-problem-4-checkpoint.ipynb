{
 "cells": [
  {
   "cell_type": "markdown",
   "metadata": {
    "deletable": false,
    "nbgrader": {
     "cell_type": "markdown",
     "checksum": "ba75a0814337d2c65e41c4ce37221599",
     "grade": false,
     "grade_id": "cell-bc924b1ba40193e7",
     "locked": true,
     "schema_version": 3,
     "solution": false
    },
    "tags": []
   },
   "source": [
    "# Problem 4 (20 points)\n",
    "\n",
    "Calculating weather anomalies for another location. In this optional task you get to start from scratch and download the data yourself from NOAA.\n",
    "\n",
    "## What to do\n",
    "\n",
    "1. Start by downloading your own data (daily summaries) from the [NOAA Global Summaries of the Day (GSOD)](https://www.ncei.noaa.gov/access/metadata/landing-page/bin/iso?id=gov.noaa.ncdc:C00516).\n",
    "    \n",
    "__Alternatively__\n",
    "Download Philippine Weather Data [from github](https://github.com/baracoma/meteo_231/tree/main/probsets/data/archive). Station names are available via this [csv file](https://github.com/baracoma/meteo_231/blob/main/probsets/data/archive/000_filenames.csv)\n",
    "\n",
    "2. Depending on where you downloaded the data you can do the following....\n",
    "\n",
    "- __if from github__: Extract the op.gz file, and then using pandas, read the .op file as if it's a text file.\n",
    "- __if from GSOD__: Using pandas, read the csv file.\n",
    "\n",
    "- Calculate the average temperature for `TMAX` or `MAX` and `TMIN` or `MIN` and insert those values into a new column called `TAVG`.\n",
    "\n",
    "3. Next, you should use the approaches learned during this week and used in Problem 3 to do the following:\n",
    "\n",
    "- For your selected station, calculate the average temperature for each month of 1999, 2009, 2019 (see Problem 3). Store this in a new dataframe, and display the first few rows.\n",
    "- Download data for an additional station and then do the previous step for this station (i.e. in a new dataframe).\n",
    "- Now that you have two stations, two different dataframes, three different decades, calculate the temperature differences for the two stations for each decade.\n",
    "- For each station calculate the summaries (TMAX, TMIN, TAVG), per month (Jan - Dec), per year (1999, 2009, 2019) and then save as `CSV` file "
   ]
  },
  {
   "cell_type": "code",
   "execution_count": null,
   "metadata": {},
   "outputs": [],
   "source": []
  }
 ],
 "metadata": {
  "kernelspec": {
   "display_name": "Python 3 (ipykernel)",
   "language": "python",
   "name": "python3"
  },
  "language_info": {
   "codemirror_mode": {
    "name": "ipython",
    "version": 3
   },
   "file_extension": ".py",
   "mimetype": "text/x-python",
   "name": "python",
   "nbconvert_exporter": "python",
   "pygments_lexer": "ipython3",
   "version": "3.8.16"
  }
 },
 "nbformat": 4,
 "nbformat_minor": 4
}
