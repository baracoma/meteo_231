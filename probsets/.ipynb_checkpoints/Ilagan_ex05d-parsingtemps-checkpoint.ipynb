{
 "cells": [
  {
   "cell_type": "markdown",
   "metadata": {
    "deletable": false,
    "editable": false,
    "nbgrader": {
     "cell_type": "markdown",
     "checksum": "7d1d00139390674ebfa2ab4b93f177c2",
     "grade": false,
     "grade_id": "cell-8f87d3f057af49f1",
     "locked": true,
     "schema_version": 3,
     "solution": false,
     "task": false
    }
   },
   "source": [
    "## Problem 4 (*optional*) - Parsing daily temperatures\n",
    "\n",
    "**This is an optional task for those who want more practice.**\n",
    "\n",
    "This problem is more challenging as we provide only minimal instructions for completing the given tasks. You will need to search through the pandas documentation (and other resources) for help. We will cover data aggregation in more detail during Lesson 6, so this is a good opportunity to get a head start for next week!\n",
    "\n",
    "In this problem, the aim is to aggregate the hourly temperature data for Helsinki Kumpula and Rovaniemi weather stations to the daily level. Currently, there are (at most) 3 measurements per hour in the data as you can see from the `YR--MODAHRMN` column (Year-Month-Day-Hour-Minute in Greenwich Mean Time (GMT):\n",
    "\n",
    "```\n",
    "    USAF  YR--MODAHRMN  TEMP  MAX  MIN  Celsius\n",
    "0  28450  201705010000  31.0  NaN  NaN       -1\n",
    "1  28450  201705010020  30.0  NaN  NaN       -1\n",
    "2  28450  201705010050  30.0  NaN  NaN       -1\n",
    "3  28450  201705010100  31.0  NaN  NaN       -1\n",
    "4  28450  201705010120  30.0  NaN  NaN       -1\n",
    "```\n",
    "\n",
    "The output should contain mean, max, and min Celsius temperatures for each day (for example, one mean temperature value for the 1st of May and so on).\n",
    "\n",
    "### What to do\n",
    "\n",
    "- Your task is to summarize the information for each day by aggregating (grouping) the DataFrame.\n",
    "- The output should be a new DataFrame where you have calculated the mean, max, and min Celsius temperatures for each day separately based on hourly values.\n",
    "- Repeat the task for the two data sets you created in Problem 2 (May-August temperatures from Rovaniemi and Kumpula).\n",
    "\n",
    "Don't forget to:\n",
    "\n",
    "- Include useful comments in your code\n",
    "- Push your solution to GitHub\n",
    "\n",
    "### Hint\n",
    "\n",
    "You can find help from the [Pandas Official documentation](https://pandas.pydata.org/pandas-docs/stable/) and Google. Don't hestiate to ask for tips in Slack!"
   ]
  },
  {
   "cell_type": "code",
   "execution_count": 6,
   "metadata": {
    "deletable": false,
    "nbgrader": {
     "cell_type": "code",
     "checksum": "71f685a62c58703b2de3ecec535adf13",
     "grade": true,
     "grade_id": "problem_4_mg_p1_do_it_all",
     "locked": false,
     "points": 0,
     "schema_version": 3,
     "solution": true,
     "task": false
    }
   },
   "outputs": [],
   "source": [
    "# YOUR CODE HERE\n",
    "import pandas as pd\n",
    "import numpy as np\n",
    "import datetime as dt\n",
    "\n",
    "# read csv files\n",
    "kumpula = pd.read_csv(\"Kumpula_temps_May_Aug_2017.csv\")\n",
    "rovaniemi = pd.read_csv(\"Rovaniemi_temps_May_Aug_2017.csv\")\n",
    "\n",
    "# add a DATE COLUMN \n",
    "kumpula[\"DATE\"] = pd.to_datetime(kumpula['YR--MODAHRMN'], format='%Y%m%d%H%M%S').dt.date\n",
    "rovaniemi[\"DATE\"] = pd.to_datetime(rovaniemi['YR--MODAHRMN'], format='%Y%m%d%H%M%S').dt.date\n"
   ]
  },
  {
   "cell_type": "code",
   "execution_count": 16,
   "metadata": {},
   "outputs": [
    {
     "name": "stdout",
     "output_type": "stream",
     "text": [
      "KUMPULA \n",
      "Mean, max, and min Celsius temperatures for each day \n",
      "\n",
      "                  mean  amin  amax\n",
      "DATE                             \n",
      "2017-05-01   7.625000     3    12\n",
      "2017-05-02   9.750000     2    16\n",
      "2017-05-03   9.208333     4    13\n",
      "2017-05-04   6.666667     3    11\n",
      "2017-05-05  10.250000     2    17\n",
      "...               ...   ...   ...\n",
      "2017-08-27  10.625000     6    14\n",
      "2017-08-28  11.826087     9    16\n",
      "2017-08-29  14.500000     8    17\n",
      "2017-08-30  16.833333    15    19\n",
      "2017-08-31  17.250000    16    19\n",
      "\n",
      "[123 rows x 3 columns]\n",
      "\n",
      "\n",
      "\n",
      "ROVANIEMI \n",
      "Mean, max, and min Celsius temperatures for each day \n",
      "\n",
      "                  mean  amin  amax\n",
      "DATE                             \n",
      "2017-05-01   2.180556    -1     7\n",
      "2017-05-02   3.402778     1     7\n",
      "2017-05-03   2.112676    -1     4\n",
      "2017-05-04   4.388889    -1     9\n",
      "2017-05-05   6.916667     1    12\n",
      "...               ...   ...   ...\n",
      "2017-08-27   7.690141     5    10\n",
      "2017-08-28   9.138889     3    13\n",
      "2017-08-29  10.722222     8    12\n",
      "2017-08-30  11.291667     9    14\n",
      "2017-08-31  12.000000     8    17\n",
      "\n",
      "[123 rows x 3 columns]\n",
      "\n"
     ]
    }
   ],
   "source": [
    "# create a new dataframe for the grouped values\n",
    "kumpula_grp = pd.DataFrame()\n",
    "rovaniemi_grp = pd.DataFrame()\n",
    "\n",
    "# group rows by DATE column\n",
    "kumpula_grp = kumpula.groupby(\"DATE\")\n",
    "rovaniemi_grp = rovaniemi.groupby(\"DATE\")\n",
    "\n",
    "# compute mean, min, max for each day\n",
    "kumpula_values = kumpula_grp[\"Celsius\"].agg([np.mean, np.min, np.max])\n",
    "rovaniemi_values = rovaniemi_grp[\"Celsius\"].agg([np.mean, np.min, np.max])\n",
    "\n",
    "print(f'KUMPULA \\nMean, max, and min Celsius temperatures for each day \\n\\n {kumpula_values}\\n')\n",
    "print('')\n",
    "print('')\n",
    "print(f'ROVANIEMI \\nMean, max, and min Celsius temperatures for each day \\n\\n {rovaniemi_values}\\n')"
   ]
  },
  {
   "cell_type": "code",
   "execution_count": null,
   "metadata": {},
   "outputs": [],
   "source": []
  }
 ],
 "metadata": {
  "anaconda-cloud": {},
  "kernelspec": {
   "display_name": "meteo231",
   "language": "python",
   "name": "meteo231"
  },
  "language_info": {
   "codemirror_mode": {
    "name": "ipython",
    "version": 3
   },
   "file_extension": ".py",
   "mimetype": "text/x-python",
   "name": "python",
   "nbconvert_exporter": "python",
   "pygments_lexer": "ipython3",
   "version": "3.7.12"
  }
 },
 "nbformat": 4,
 "nbformat_minor": 4
}
