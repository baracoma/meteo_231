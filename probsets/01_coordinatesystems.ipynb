{
 "cells": [
  {
   "cell_type": "markdown",
   "id": "3eeb8de2-e49a-4b4c-848f-1b0fdf8ad028",
   "metadata": {},
   "source": [
    "# Problem Set 1\n",
    "Exercises derived from [Calculus (OpenStax)](https://math.libretexts.org/Bookshelves/Calculus/Book%3A_Calculus_(OpenStax)/12%3A_Vectors_in_Space/12.07%3A_Cylindrical_and_Spherical_Coordinates)"
   ]
  },
  {
   "cell_type": "markdown",
   "id": "9de66f61-f439-42d2-aa9f-ed8bbe582aef",
   "metadata": {},
   "source": [
    "## Cartesian and Cylindrical Coordinates\n",
    "\n",
    "![Cylindrical to Cartesian](assets/cylindrical_cartesian.png)\n",
    "\n",
    "The rectangular coordinates $(x,y,z)$ and cylindrical coordinates $(r, \\theta, z)$ of a point are related as follows:\n",
    "\n",
    "### Cylindrical to Rectangular\n",
    "- $x=r\\cos\\theta$\n",
    "- $y=r\\sin\\theta$\n",
    "- $z=z$\n",
    "\n",
    "### Rectangular to Cylindrical\n",
    "- $r^2=x^2+y^2$\n",
    "- $\\tan\\theta=\\frac{y}{x}$\n",
    "- $z=z$"
   ]
  },
  {
   "cell_type": "markdown",
   "id": "afa0244c-236f-4bed-ab22-f509535998df",
   "metadata": {},
   "source": [
    "## Exercise 1 \n",
    "Point $R$ has cylindrical coordinates $(5, \\frac{\\pi}{6},4)$. Convert this to rectangular coordinates.\n",
    "\n",
    "Use the cell (or cells, you can create new ones) below to calculate and print the values.\n",
    "\n",
    "__Hints:__ \n",
    "1. don't forget to ```import math```\n",
    "2. you can combine strings in numbers when you print by converting the number to string, and then adding the strings. e.g. ```print('x = ' + str(x))```\n",
    "3.  $\\pi$ is available from ```math.pi```\n",
    "4. read the python documentation for the [Trigonometric functions found in the ```math``` module](https://docs.python.org/3/library/math.html#trigonometric-functions).\n",
    "5. you can raise a variable to a certain power by using two asterisks (```**```), followed by the exponent. e.g., $x^2$ can be coded as ```x**2```\n",
    "6. PEMDAS: don't forget to group your mathematical expressions so that python will not be confused\n",
    "\n",
    "__Scoring__\n",
    "- 1pt for variable definition\n",
    "- 1pt for printed answers\n",
    "- 1pt if the code works"
   ]
  },
  {
   "cell_type": "code",
   "execution_count": null,
   "id": "05a8caa3-8096-4bd5-9840-fad84c85b993",
   "metadata": {},
   "outputs": [],
   "source": []
  },
  {
   "cell_type": "markdown",
   "id": "c17617b8-0fcc-4056-b9c5-aad2eddd6ba2",
   "metadata": {},
   "source": [
    "## Exercise 2\n",
    "Convert the rectangular coordinates $(-8,8,7)$ to cylindrical coordinates. Use the cell/s below to calculate and print the values.\n",
    "\n",
    "__Hints__:\n",
    "1. When solving for $\\theta$, we take the arctangent, i.e. $\\theta=\\arctan(\\frac{y}{x})$. While it might be tempting to use ```math.atan(y/x)``` directly, take note that the signs of both y and x are known (i.e. we know the proper quadrants). Use ```math.atan2(y,x)``` instead. Again, refer to the [Trigonometric functions found in the ```math``` module](https://docs.python.org/3/library/math.html#trigonometric-functions). You can read about the atan2 function in [this Wikipedia article](https://en.wikipedia.org/wiki/Atan2).\n",
    "\n",
    "__Scoring__\n",
    "- 1pt for variable definition\n",
    "- 1pt for printed answers\n",
    "- 1pt if the code works"
   ]
  },
  {
   "cell_type": "code",
   "execution_count": null,
   "id": "d9b269e7-49f3-4f80-877c-42ef00793441",
   "metadata": {},
   "outputs": [],
   "source": []
  },
  {
   "cell_type": "markdown",
   "id": "e5ec72a4-3441-4fd0-b95a-7f2704ef0ead",
   "metadata": {},
   "source": [
    "## Spherical, Cylindrical, and Cartesian Coordinates\n",
    "![Spherical to Cartesian](assets/spherical_cartesian.png)\n",
    "\n",
    "Rectangular coordinates $(x,y,z)$, cylindrical coordinates $(r,\\theta,z)$, and spherical coordinates $(\\rho,\\theta,\\varphi)$ of a point are related as follows:\n",
    "\n",
    "### Spherical to Rectangular\n",
    "- $x = \\rho\\sin\\varphi\\cos\\theta$\n",
    "- $y = \\rho\\sin\\varphi\\sin\\theta$\n",
    "- $z = \\rho\\cos\\varphi$\n",
    "\n",
    "### Rectangular to Spherical\n",
    "- $\\rho^2 = x^2  + y^2 + z^2$\n",
    "- $\\tan\\theta = \\frac{y}{x}$\n",
    "- $\\varphi = \\arccos(\\frac{z}{\\sqrt{x^2  + y^2 + z^2}})$\n",
    "\n",
    "### Spherical to Cylindrical\n",
    "- $r = \\rho\\sin\\varphi$\n",
    "- $\\theta=\\theta$\n",
    "- $z = \\rho\\cos\\varphi$\n",
    "\n",
    "### Cylindrical to Spherical\n",
    "- $\\rho=\\sqrt{r^2+z^2}$\n",
    "- $\\theta=\\theta$\n",
    "- $\\varphi = \\arccos(\\frac{z}{\\sqrt{r^2+z^2}})$\n",
    "\n",
    "So with all three combined....\n",
    "\n",
    "![Spherical to Cartesian to Cylindrical](assets/cylindrical_cartesian_spherical.jpg)"
   ]
  },
  {
   "cell_type": "markdown",
   "id": "9289d8e4-e3e4-4686-8390-f0263ce1f604",
   "metadata": {},
   "source": [
    "## Exercise 3\n",
    "### Converting from Spherical Coordinates\n",
    "Convert the spherical coordinate $(8, \\frac{\\pi}{3}, \\frac{\\pi}{6})$ to both rectangular and cylindrical coordinates. Use the cell/s below to calculate and print the values.\n",
    "\n",
    "__Hints:__\n",
    "1. Use previous hints. \n",
    "2. When in trouble, ask BA.\n",
    "\n",
    "__Scoring__\n",
    "- 2pt for variable definition\n",
    "- 2pt for printed answers\n",
    "- 2pt if the code works\n"
   ]
  },
  {
   "cell_type": "code",
   "execution_count": null,
   "id": "618a41ae-7af6-47dc-a97c-0085d0caa49e",
   "metadata": {},
   "outputs": [],
   "source": []
  },
  {
   "cell_type": "code",
   "execution_count": null,
   "id": "f5839d36-987b-4885-8c3a-e97d272756d2",
   "metadata": {},
   "outputs": [],
   "source": []
  },
  {
   "cell_type": "markdown",
   "id": "740984ce-32b8-466d-80ba-aba111480208",
   "metadata": {},
   "source": [
    "## Exercise 4\n",
    "### Converting from Rectangular Coordinates\n",
    "Convert the rectangular coordinate $(-1, 1, \\sqrt{6})$ to both spherical and cylindrical coordinates. Use the cell/s below to calculate and print the values.\n",
    "\n",
    "__Scoring__\n",
    "- 2pt for variable definition\n",
    "- 2pt for printed answers\n",
    "- 2pt if the code works\n"
   ]
  },
  {
   "cell_type": "code",
   "execution_count": null,
   "id": "a5fd9a49-7693-4c8c-9aef-9c23a2f66112",
   "metadata": {},
   "outputs": [],
   "source": []
  },
  {
   "cell_type": "markdown",
   "id": "af132676-b997-4b12-badf-6e5e54d08284",
   "metadata": {},
   "source": [
    "### Why consider spherical coordinates?\n",
    "\n",
    "Spherical coordinates are useful in analyzing systems that have some degree of symmetry about a point, such as the volume of the space inside a domed stadium or wind speeds in a planet’s atmosphere. A sphere that has Cartesian equation  $x^2+y^2+z^2=c^2$ has the simple equation $\\rho=c$ in spherical coordinates.\n",
    "\n",
    "In geography, latitude and longitude are used to describe locations on Earth’s surface, as shown in the figure below. Although the shape of Earth is not a perfect sphere, we use spherical coordinates to communicate the locations of points on Earth. Let’s assume Earth has the shape of a sphere with radius  $6,371$km. We express angle measures in degrees rather than radians because latitude and longitude are measured in degrees.\n",
    "\n",
    "![Globe](assets/earth.png)\n",
    "\n",
    "Let the center of Earth be the center of the sphere, with the ray from the center through the North Pole representing the positive $z$-axis. The prime meridian represents the trace of the surface as it intersects the $xz$-plane. The equator is the trace of the sphere intersecting the $xy$-plane."
   ]
  },
  {
   "cell_type": "markdown",
   "id": "dca420dd-3caf-46bf-b830-e5f540d3af65",
   "metadata": {},
   "source": [
    "### Example: Converting Latitude and Longitude to Spherical Coordinates\n",
    "\n",
    "Say that PAGASA Science Garden is located at $14.6439°$N , $121.0443°$E. Imagine that in the spherical coordinate system, the equator (or $0°$ latitude) is $\\varphi=0$, while the prime meridian ($0°$ longitude) is $\\theta=0$.\n",
    "\n",
    "We can then represent the radius of the Earth ($6,371$km), and the provided latitude and longitude into Spherical coordinates as follows...\n",
    "- $\\rho = 6370$\n",
    "- $\\varphi = 14.6439$\n",
    "- $\\theta = 121.0443$"
   ]
  },
  {
   "cell_type": "markdown",
   "id": "7e8ae055-b8e9-47d6-9ef0-2796e5f2f8cd",
   "metadata": {},
   "source": [
    "### Challenge\n",
    "Convert the given PAGASA Science Garden coordinates to rectangular and cylindrical coordinates. Use the cell/s below."
   ]
  },
  {
   "cell_type": "code",
   "execution_count": null,
   "id": "1c121090-12ae-42ed-9dc9-2704e82297ce",
   "metadata": {},
   "outputs": [],
   "source": []
  },
  {
   "cell_type": "markdown",
   "id": "469f0717-96c9-4c09-bf13-fa183bf857c8",
   "metadata": {},
   "source": [
    "### Grading for this exercise\n",
    "\n",
    "Ex 1: 3pts  \n",
    "Ex 2: 3pts  \n",
    "Ex 3: 6pts  \n",
    "Ex 4: 6pts  \n",
    "__Total__: 18pts  "
   ]
  },
  {
   "cell_type": "code",
   "execution_count": null,
   "id": "50508a6d-eeae-498a-aced-6e6fefa3f1ee",
   "metadata": {},
   "outputs": [],
   "source": []
  }
 ],
 "metadata": {
  "kernelspec": {
   "display_name": "Python 3 (ipykernel)",
   "language": "python",
   "name": "python3"
  },
  "language_info": {
   "codemirror_mode": {
    "name": "ipython",
    "version": 3
   },
   "file_extension": ".py",
   "mimetype": "text/x-python",
   "name": "python",
   "nbconvert_exporter": "python",
   "pygments_lexer": "ipython3",
   "version": "3.7.16"
  }
 },
 "nbformat": 4,
 "nbformat_minor": 5
}
