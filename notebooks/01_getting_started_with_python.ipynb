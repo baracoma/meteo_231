{
 "cells": [
  {
   "cell_type": "markdown",
   "id": "ef40d431-b7ca-4a9d-bdd1-100fa6c1e846",
   "metadata": {},
   "source": [
    "# Getting Started With Python\n",
    "\n",
    "Adapted from https://geo-python-upd.readthedocs.io/en/latest/notebooks/L1/a-taste-of-python.html\n"
   ]
  },
  {
   "cell_type": "markdown",
   "id": "7e23bbfb-4119-4fda-abbd-fe6f84eedcf6",
   "metadata": {},
   "source": [
    "### About this document\n",
    "\n",
    "This is a [Jupyter Notebook](https://jupyter.org/). This particular notebook is designed to introduce you to a few of the basic concepts of programming in Python. The contents of this document are divided into cells, which can contain Markdown-formatted text, Python code, or raw text. You can execute a snippet of code in a cell by pressing **Shift-Enter**. Try this out with the examples below."
   ]
  },
  {
   "cell_type": "markdown",
   "id": "64f1f367-7418-43ca-8bb9-1fea83cf439d",
   "metadata": {},
   "source": [
    "## Variables, math and functions\n",
    "\n",
    "We will start our Python lesson by learning a bit of the basic operations you can perform using Python.\n",
    "\n",
    "### Simple Python math\n",
    "\n",
    "Python can be used as a simple calculator. Remember, you can press **Shift-Enter** to execute the code in the cells below. Try it out by typing ``1 + 1`` or ``5 * 7`` and see what you get."
   ]
  },
  {
   "cell_type": "code",
   "execution_count": 7,
   "id": "af617add-6db2-45c8-8b8b-2e2158e9b565",
   "metadata": {},
   "outputs": [
    {
     "data": {
      "text/plain": [
       "6"
      ]
     },
     "execution_count": 7,
     "metadata": {},
     "output_type": "execute_result"
    }
   ],
   "source": [
    "1+5"
   ]
  },
  {
   "cell_type": "code",
   "execution_count": 3,
   "id": "8e2a9ad6-6e93-45a0-8d49-b23775a85669",
   "metadata": {},
   "outputs": [
    {
     "data": {
      "text/plain": [
       "35"
      ]
     },
     "execution_count": 3,
     "metadata": {},
     "output_type": "execute_result"
    }
   ],
   "source": [
    "5*7"
   ]
  },
  {
   "cell_type": "code",
   "execution_count": 4,
   "id": "f51b394e-a676-450c-8bc2-76ca78ae107c",
   "metadata": {},
   "outputs": [
    {
     "data": {
      "text/plain": [
       "189"
      ]
     },
     "execution_count": 4,
     "metadata": {},
     "output_type": "execute_result"
    }
   ],
   "source": [
    "100+20+69"
   ]
  },
  {
   "cell_type": "code",
   "execution_count": 5,
   "id": "b2cd4f4a-7080-4ebd-af5c-149bf086c728",
   "metadata": {},
   "outputs": [
    {
     "data": {
      "text/plain": [
       "1001"
      ]
     },
     "execution_count": 5,
     "metadata": {},
     "output_type": "execute_result"
    }
   ],
   "source": [
    "100*10+1"
   ]
  },
  {
   "cell_type": "code",
   "execution_count": 6,
   "id": "f96241ff-a532-4e4f-8e85-22728c5a1a24",
   "metadata": {},
   "outputs": [
    {
     "data": {
      "text/plain": [
       "1100"
      ]
     },
     "execution_count": 6,
     "metadata": {},
     "output_type": "execute_result"
    }
   ],
   "source": [
    "100*(10+1)"
   ]
  },
  {
   "cell_type": "markdown",
   "id": "2ff8423a-e7c6-4bc1-9bdc-a90b8844d72c",
   "metadata": {},
   "source": [
    "If you want to edit and re-run some code, simply make changes to the cell and press **Shift-Enter** to execute the modified code."
   ]
  },
  {
   "cell_type": "markdown",
   "id": "c42677cf-ee00-4a77-b13f-bf34eb5634dc",
   "metadata": {},
   "source": [
    "### Functions\n",
    "\n",
    "You can use Python for more advanced math by using a `function`. Functions are pieces of code that perform a single action such as printing information to the screen (e.g., the `print()` function). Functions exist for a huge number of operations in Python.\n",
    "\n",
    "Let's try out a few simple examples using functions to find the sine or square root of a value. You can type `sin(3)` or `sqrt(4)` into the cells below to test this out."
   ]
  },
  {
   "cell_type": "code",
   "execution_count": 13,
   "id": "714d250d-3cb9-40b3-8816-5a1e8ceb95b9",
   "metadata": {},
   "outputs": [
    {
     "data": {
      "text/plain": [
       "0.1411200080598672"
      ]
     },
     "execution_count": 13,
     "metadata": {},
     "output_type": "execute_result"
    }
   ],
   "source": [
    "math.sin(3)"
   ]
  },
  {
   "cell_type": "code",
   "execution_count": 14,
   "id": "2f318989-6192-4e3e-b415-9d70ff6faa56",
   "metadata": {},
   "outputs": [
    {
     "data": {
      "text/plain": [
       "2.0"
      ]
     },
     "execution_count": 14,
     "metadata": {},
     "output_type": "execute_result"
    }
   ],
   "source": [
    "math.sqrt(4)"
   ]
  },
  {
   "cell_type": "markdown",
   "id": "210edf5e-2644-47eb-9f23-67504c8a16f6",
   "metadata": {},
   "source": [
    "Wait, what? Python can’t calculate square roots or do basic trigonometry? Of course it can, but we need one more step."
   ]
  },
  {
   "cell_type": "markdown",
   "id": "6fc0e5f6-2b05-4f13-9165-17da3a17c75b",
   "metadata": {},
   "source": [
    "### Math operations\n",
    "\n",
    "The list of basic arithmetic operations that can be done by default in Python is in the table below.\n",
    "\n",
    "| Operation      | Symbol | Example syntax | Returned value |\n",
    "| -------------- | ------ | -------------- | -------------- |\n",
    "| Addition       | `+`    | `2 + 2`        | `4`            |\n",
    "| Subtraction    | `-`    | `4 - 2`        | `2`            |\n",
    "| Multiplication | `*`    | `2 * 3`        | `6`            | \n",
    "| Division       | `/`    | `4 / 2`        | `2`            |\n",
    "| Exponentiation | `**`   | `2**3`         | `8`            |\n",
    "\n",
    "For anything more advanced, we need to load a `module` or `library`. For math operations, this module is called *math* and it can be loaded by typing `import math`. Try that below."
   ]
  },
  {
   "cell_type": "code",
   "execution_count": 12,
   "id": "953cba18-f815-4a16-a54d-0f7900492b1a",
   "metadata": {},
   "outputs": [],
   "source": [
    "import math"
   ]
  },
  {
   "cell_type": "markdown",
   "id": "27dd1ec9-0978-4b1a-b6f2-cdff6b9aeabb",
   "metadata": {},
   "source": [
    "Now that we have access to functions in the math module, we can use it by typing the module name, a period (dot), and the the name of the function we want to use. For example, ``math.sin(3)``. Try this with the sine and square root examples from above."
   ]
  },
  {
   "cell_type": "code",
   "execution_count": 16,
   "id": "91f47bf7-7c7f-4608-866b-f8cdf12560c5",
   "metadata": {},
   "outputs": [
    {
     "data": {
      "text/plain": [
       "0.1411200080598672"
      ]
     },
     "execution_count": 16,
     "metadata": {},
     "output_type": "execute_result"
    }
   ],
   "source": [
    "math.sin(3)"
   ]
  },
  {
   "cell_type": "code",
   "execution_count": 15,
   "id": "9be00996-b07c-438a-a6d9-dd5e84486d7d",
   "metadata": {},
   "outputs": [
    {
     "data": {
      "text/plain": [
       "2.0"
      ]
     },
     "execution_count": 15,
     "metadata": {},
     "output_type": "execute_result"
    }
   ],
   "source": [
    "math.sqrt(4)"
   ]
  },
  {
   "cell_type": "markdown",
   "id": "80ee5cbd-efb6-45af-9b11-838f86346a3c",
   "metadata": {},
   "source": [
    "Let's summarize what we've just seen with modules:\n",
    "\n",
    "1. A *module* is a group of code items such as functions that are related to one another. Individual modules are often in a group referred to as a *library*.\n",
    "\n",
    "2. Modules can be loaded using ``import``. Functions that are part of the module ``modulename`` can then be used by typing ``modulename.functionname()``. For example, ``sin()`` is a function that is part of the ``math`` module, and used by typing ``math.sin()`` with some number between the parentheses.\n",
    "\n",
    "3. Within a given Jupyter Notebook the variables you define earlier in the notebook will be available for use in the cells that follow as long as you have already executed the cells.\n",
    "\n",
    "4. Modules may also contain constants such as ``math.pi``. Type this in the cell below to see the value of the contant ``math.pi``."
   ]
  },
  {
   "cell_type": "code",
   "execution_count": 18,
   "id": "6cab9edb-c99c-484f-995f-9fbc16a307d5",
   "metadata": {},
   "outputs": [
    {
     "data": {
      "text/plain": [
       "3.141592653589793"
      ]
     },
     "execution_count": 18,
     "metadata": {},
     "output_type": "execute_result"
    }
   ],
   "source": [
    "math.pi"
   ]
  },
  {
   "cell_type": "markdown",
   "id": "4f75f26c-955c-4205-afd1-62813f909e0f",
   "metadata": {},
   "source": [
    "#### Check your understanding\n",
    "\n",
    "Use the empty Python cell below to calculate the sine of pi. What value do you expect for this calculation? Did you get the expected result?"
   ]
  },
  {
   "cell_type": "code",
   "execution_count": 19,
   "id": "856ef758-561d-4e9b-8635-7c2cf1e799b6",
   "metadata": {},
   "outputs": [
    {
     "data": {
      "text/plain": [
       "1.2246467991473532e-16"
      ]
     },
     "execution_count": 19,
     "metadata": {},
     "output_type": "execute_result"
    }
   ],
   "source": [
    "math.sin(math.pi)"
   ]
  },
  {
   "cell_type": "code",
   "execution_count": 20,
   "id": "f12eb78e-e5e9-497f-b66d-c39c64bf7dbe",
   "metadata": {},
   "outputs": [
    {
     "data": {
      "text/plain": [
       "0.0015926529164868282"
      ]
     },
     "execution_count": 20,
     "metadata": {},
     "output_type": "execute_result"
    }
   ],
   "source": [
    "math.sin(3.14)"
   ]
  },
  {
   "cell_type": "code",
   "execution_count": 22,
   "id": "1eeb1e4c-e389-41f0-bc4c-ad28112950b5",
   "metadata": {},
   "outputs": [
    {
     "data": {
      "text/plain": [
       "1.2246467991473532e-16"
      ]
     },
     "execution_count": 22,
     "metadata": {},
     "output_type": "execute_result"
    }
   ],
   "source": [
    "math.sin(3.141592653589793238462643383279)"
   ]
  },
  {
   "cell_type": "code",
   "execution_count": 23,
   "id": "60c62a3e-da28-49ab-b187-1da041d0fbbf",
   "metadata": {},
   "outputs": [
    {
     "name": "stdout",
     "output_type": "stream",
     "text": [
      "this is a string\n"
     ]
    }
   ],
   "source": [
    "print(\"this is a string\")"
   ]
  },
  {
   "cell_type": "code",
   "execution_count": 24,
   "id": "9ecbe183-01dd-45f4-aee3-c6e298af9065",
   "metadata": {},
   "outputs": [
    {
     "ename": "SyntaxError",
     "evalue": "invalid syntax (3147735522.py, line 1)",
     "output_type": "error",
     "traceback": [
      "\u001b[1;36m  File \u001b[1;32m\"C:\\Users\\BA\\AppData\\Local\\Temp\\ipykernel_16396\\3147735522.py\"\u001b[1;36m, line \u001b[1;32m1\u001b[0m\n\u001b[1;33m    print(this is a string)\u001b[0m\n\u001b[1;37m                         ^\u001b[0m\n\u001b[1;31mSyntaxError\u001b[0m\u001b[1;31m:\u001b[0m invalid syntax\n"
     ]
    }
   ],
   "source": [
    "print(this is a string)"
   ]
  },
  {
   "cell_type": "code",
   "execution_count": 25,
   "id": "e662db16-5f5f-47d2-91de-cac268298041",
   "metadata": {},
   "outputs": [
    {
     "ename": "NameError",
     "evalue": "name 'x' is not defined",
     "output_type": "error",
     "traceback": [
      "\u001b[1;31m---------------------------------------------------------------------------\u001b[0m",
      "\u001b[1;31mNameError\u001b[0m                                 Traceback (most recent call last)",
      "\u001b[1;32m~\\AppData\\Local\\Temp\\ipykernel_16396\\32546335.py\u001b[0m in \u001b[0;36m<module>\u001b[1;34m\u001b[0m\n\u001b[1;32m----> 1\u001b[1;33m \u001b[0mx\u001b[0m\u001b[1;33m\u001b[0m\u001b[1;33m\u001b[0m\u001b[0m\n\u001b[0m",
      "\u001b[1;31mNameError\u001b[0m: name 'x' is not defined"
     ]
    }
   ],
   "source": [
    "x"
   ]
  },
  {
   "cell_type": "code",
   "execution_count": 26,
   "id": "5fba01f1-9476-423d-aaa6-ad3e75defa36",
   "metadata": {},
   "outputs": [
    {
     "data": {
      "text/plain": [
       "'x'"
      ]
     },
     "execution_count": 26,
     "metadata": {},
     "output_type": "execute_result"
    }
   ],
   "source": [
    "'x'"
   ]
  },
  {
   "cell_type": "markdown",
   "id": "f0bed8fd-4705-42b1-a308-4c8d0ccfd003",
   "metadata": {},
   "source": [
    "### Combining functions\n",
    "\n",
    "Functions can also be combined. The ``print()`` function returns values within the parentheses as text on the screen. Below, try printing the value of the square root of four."
   ]
  },
  {
   "cell_type": "code",
   "execution_count": 27,
   "id": "3e110680-1695-49e2-af30-8cb8dc33c557",
   "metadata": {},
   "outputs": [
    {
     "name": "stdout",
     "output_type": "stream",
     "text": [
      "2.0\n"
     ]
    }
   ],
   "source": [
    "print(math.sqrt(4))"
   ]
  },
  {
   "cell_type": "code",
   "execution_count": 29,
   "id": "25da8120-aeae-4585-b42a-b8d5965ddf01",
   "metadata": {},
   "outputs": [
    {
     "data": {
      "text/plain": [
       "0.945513967956348"
      ]
     },
     "execution_count": 29,
     "metadata": {},
     "output_type": "execute_result"
    }
   ],
   "source": [
    "math.sqrt(math.sin(45+45))"
   ]
  },
  {
   "cell_type": "markdown",
   "id": "80f7ad23-14cc-45fc-ae52-a33e38a2ece2",
   "metadata": {},
   "source": [
    "You can also combine text with other calculated values using the ``print()`` function. For example, ``print('Two plus two is', 2+2)`` would generate text reading 'Two plus two is 4'. Combine the ``print()`` function with the ``math.sqrt()`` function in the cell below to produce text that reads 'The square root of 4 is 2.0'."
   ]
  },
  {
   "cell_type": "code",
   "execution_count": 31,
   "id": "a02ae9e6-3e9a-4ef1-b4cd-ca6ecf21c7e8",
   "metadata": {},
   "outputs": [
    {
     "name": "stdout",
     "output_type": "stream",
     "text": [
      "Two plus two is 4 yehey\n"
     ]
    }
   ],
   "source": [
    "print('Two plus two is', 2+2,'yehey')"
   ]
  },
  {
   "cell_type": "code",
   "execution_count": 34,
   "id": "0d5edb93-8e17-4d9a-93fd-ee6d021987f5",
   "metadata": {},
   "outputs": [
    {
     "name": "stdout",
     "output_type": "stream",
     "text": [
      "The square root of 4 is 2.0\n"
     ]
    }
   ],
   "source": [
    "print('The square root of 4 is', math.sqrt(4))"
   ]
  },
  {
   "cell_type": "code",
   "execution_count": 35,
   "id": "1a694188-4aab-4249-88b4-f7a0051105b0",
   "metadata": {},
   "outputs": [
    {
     "data": {
      "text/plain": [
       "360.0"
      ]
     },
     "execution_count": 35,
     "metadata": {},
     "output_type": "execute_result"
    }
   ],
   "source": [
    "math.degrees(2*math.pi)"
   ]
  },
  {
   "cell_type": "code",
   "execution_count": 36,
   "id": "85b6fc1f-dc71-4d1b-8dc4-a0e0639cd691",
   "metadata": {},
   "outputs": [
    {
     "data": {
      "text/plain": [
       "1.5707963267948966"
      ]
     },
     "execution_count": 36,
     "metadata": {},
     "output_type": "execute_result"
    }
   ],
   "source": [
    "math.radians(90)"
   ]
  },
  {
   "cell_type": "markdown",
   "id": "23c268c5-faad-4642-aa07-4b6f7edab4d5",
   "metadata": {},
   "source": [
    "### Variables\n",
    "\n",
    "A `variable` can be used to store values calculated in expressions and used for other calculations. Assigning value to variables is straightforward. To assign a value, you simply type ``variable_name = value``, where ``variable_name`` is the name of the variable you wish to define. In the cell below, define a variable called ``temp_celsius``, assign it a value of '10.0', and then print that variable value using the ``print()`` function. Note that you should do this on two separate lines."
   ]
  },
  {
   "cell_type": "code",
   "execution_count": 60,
   "id": "681e4ef5-3d67-4dea-9600-9035431dc4ee",
   "metadata": {},
   "outputs": [],
   "source": [
    "temp_celsius = 10.0"
   ]
  },
  {
   "cell_type": "code",
   "execution_count": 46,
   "id": "260ec193-1437-4a96-98f8-87b8d38ed137",
   "metadata": {},
   "outputs": [
    {
     "name": "stdout",
     "output_type": "stream",
     "text": [
      "10.0\n"
     ]
    }
   ],
   "source": [
    "print(temp_celsius)"
   ]
  },
  {
   "cell_type": "code",
   "execution_count": 47,
   "id": "20e99ff8-ba4b-4dff-aae6-345363618a06",
   "metadata": {},
   "outputs": [
    {
     "data": {
      "text/plain": [
       "10.0"
      ]
     },
     "execution_count": 47,
     "metadata": {},
     "output_type": "execute_result"
    }
   ],
   "source": [
    "float(10)"
   ]
  },
  {
   "cell_type": "code",
   "execution_count": 48,
   "id": "b4e5a9a8-27fe-4a48-8d2e-3e545005e131",
   "metadata": {},
   "outputs": [
    {
     "data": {
      "text/plain": [
       "10"
      ]
     },
     "execution_count": 48,
     "metadata": {},
     "output_type": "execute_result"
    }
   ],
   "source": [
    "int(temp_celsius)"
   ]
  },
  {
   "cell_type": "markdown",
   "id": "1ca2ab2f-6b27-4062-95d7-a3ada40eee02",
   "metadata": {},
   "source": [
    "As we did above, you can combine text and even use some math when printing out variable values. The idea is similar to the examples of adding 2+2 or calculating the square root of four from the previous section. In the cell below, print out the value of ``temp_celsius`` in degrees Fahrenheit by multiplying ``temp_celsius`` by 9/5 and adding 32. This should be done within the ``print()`` function to produce output that reads 'Temperature in Fahrenheit: 50.0'."
   ]
  },
  {
   "cell_type": "code",
   "execution_count": 68,
   "id": "aace2242-0232-4ffa-877d-52d3693ba36a",
   "metadata": {},
   "outputs": [
    {
     "name": "stdout",
     "output_type": "stream",
     "text": [
      "Temperature in Fahrenheit: 59.0\n"
     ]
    }
   ],
   "source": [
    "print('Temperature in Fahrenheit:', ((9/5)*temp_celsius) + 32)"
   ]
  },
  {
   "cell_type": "markdown",
   "id": "904ac54f-0b5e-45bf-a04d-79c2c57415da",
   "metadata": {
    "tags": []
   },
   "source": [
    "#### Check your understanding\n",
    "\n",
    "Use the empty Python cell below to define a variable and print its value to the screen using the `print()` function.\n",
    "The variable value can be anything you like, and you can even consider defining several variables and printing them out together.\n",
    "Consider using pothole_case_naming for your variable name."
   ]
  },
  {
   "cell_type": "code",
   "execution_count": 52,
   "id": "dd407a31-54e8-4e5f-8898-c5c6407bcbb1",
   "metadata": {},
   "outputs": [
    {
     "name": "stdout",
     "output_type": "stream",
     "text": [
      "29 hello\n"
     ]
    }
   ],
   "source": [
    "variable1 = 29\n",
    "variable2 ='hello'\n",
    "print(variable1, variable2)"
   ]
  },
  {
   "cell_type": "markdown",
   "id": "3101096d-275d-4cb2-904e-ce41d4ef783a",
   "metadata": {},
   "source": [
    "### Updating variables\n",
    "\n",
    "Values stored in variables can also be updated. Let's redefine the value of ``temp_celsius`` to be equal to 15.0 and print its value in the cells below."
   ]
  },
  {
   "cell_type": "code",
   "execution_count": 63,
   "id": "0df46b7d-7744-44c3-aa09-0df66bd1d07a",
   "metadata": {},
   "outputs": [
    {
     "name": "stdout",
     "output_type": "stream",
     "text": [
      "15.0\n"
     ]
    }
   ],
   "source": [
    "print(temp_celsius)"
   ]
  },
  {
   "cell_type": "code",
   "execution_count": 62,
   "id": "4a9a32f0-3966-4d95-8180-02b9c126a9f3",
   "metadata": {},
   "outputs": [],
   "source": [
    "temp_celsius = 15.0"
   ]
  },
  {
   "cell_type": "code",
   "execution_count": 64,
   "id": "266eab95-bc98-4ff4-b61d-7212a38bbd46",
   "metadata": {},
   "outputs": [
    {
     "name": "stdout",
     "output_type": "stream",
     "text": [
      "15.0\n"
     ]
    }
   ],
   "source": [
    "print(temp_celsius)"
   ]
  },
  {
   "cell_type": "markdown",
   "id": "323d10af-774c-44de-b1ae-4988cbf849bf",
   "metadata": {},
   "source": [
    "```{warning}\n",
    "If you try to run some code that accesses a variable that has not yet been defined you will get a `NameError` message. Try printing out the value of the variable `tempFahrenheit` using the `print()` function in the cell below.\n",
    "```"
   ]
  },
  {
   "cell_type": "code",
   "execution_count": 67,
   "id": "3b18386b-2e37-455d-a8f1-cbec3c65f808",
   "metadata": {},
   "outputs": [
    {
     "name": "stdout",
     "output_type": "stream",
     "text": [
      "59.0\n"
     ]
    }
   ],
   "source": [
    "print(tempFahrenheit)"
   ]
  },
  {
   "cell_type": "markdown",
   "id": "6b0a73d3-8ae3-4782-bb3f-b66553c19fb4",
   "metadata": {},
   "source": [
    "```{note}\n",
    "One of the interesting things here is that if we define the undefined variable in a cell lower down in the notebook and execute that cell, we can return to the earlier cell and the code should now work. That was a bit of a complicated sentence, so let's test this all out. First, let's define a variable called `tempFahrenheit` in the cell below and assign it to be equal to `9/5 * temp_celsius + 32`, the conversion factor from temperatures in Celsius to Fahrenheit. Then, return to the cell above this text and run that cell again. See how the error message has gone away? `tempFahrenheit` has now been defined and thus the cell above no longer generates a `NameError` when the code is executed.\n",
    "\n",
    "Also, the number beside the cell, for example `In [2]`, tells you the order in which the Python cells have been executed. This way you can see a history of the order in which you have run the cells.\n",
    "```"
   ]
  },
  {
   "cell_type": "code",
   "execution_count": 72,
   "id": "179b08c8-2406-4f68-b694-1c7c6d8e9c1c",
   "metadata": {},
   "outputs": [],
   "source": [
    "tempFahrenheit = (9/5)*temp_celsius + 32"
   ]
  },
  {
   "cell_type": "markdown",
   "id": "c8f6fabe-f30a-44c2-8187-3564dc9d87f9",
   "metadata": {},
   "source": [
    "Just to check their current values, print out the values of ``temp_celsius`` and ``tempFahrenheit`` in the cell below."
   ]
  },
  {
   "cell_type": "markdown",
   "id": "a10260df-52ac-4582-ad8a-b4a45ae471b5",
   "metadata": {},
   "source": [
    "### Variable values\n",
    "\n",
    "Changing the value of a variable does not affect other variable values. Let's redefine ``temp_celsius`` to be equal to 20.0, and print out the values of ``temp_celsius`` and ``tempFahrenheit``."
   ]
  },
  {
   "cell_type": "code",
   "execution_count": 69,
   "id": "9b17de35-b644-4971-ae78-d2d795d7e937",
   "metadata": {},
   "outputs": [],
   "source": [
    "temp_celsius = 20"
   ]
  },
  {
   "cell_type": "code",
   "execution_count": 70,
   "id": "94abdfb0-93bc-4895-80d4-2d1dbd356ac7",
   "metadata": {},
   "outputs": [
    {
     "name": "stdout",
     "output_type": "stream",
     "text": [
      "20\n"
     ]
    }
   ],
   "source": [
    "print(temp_celsius)"
   ]
  },
  {
   "cell_type": "code",
   "execution_count": 73,
   "id": "04477793-8a71-40c6-b7b0-0059154cff8c",
   "metadata": {},
   "outputs": [
    {
     "name": "stdout",
     "output_type": "stream",
     "text": [
      "68.0\n"
     ]
    }
   ],
   "source": [
    "print(tempFahrenheit)"
   ]
  },
  {
   "cell_type": "markdown",
   "id": "52c567c8-031d-428e-8768-6c65990499c6",
   "metadata": {},
   "source": [
    "### Data types\n",
    "\n",
    "A `data type` determines the characteristics of data in a program.\n",
    "There are 4 basic data types in Python as shown in the table below.\n",
    "\n",
    "| Data type name | Data type            | Example    |\n",
    "| -------------- | -------------------- | ---------- |\n",
    "| `int`          | Whole integer values | `4`        |\n",
    "| `float`        | Decimal values       | `3.1415`   |\n",
    "| `str`          | Character strings    | `'Hot'`    |\n",
    "| `bool`         | True/false values    | `True`     |\n",
    "\n",
    "The data type can be found using the `type()` function.\n",
    "As you will see, the data types are important because some are not compatible with one another.\n",
    "\n",
    "Let's define a variable ``weatherForecast`` and assign it the value ``'Hot'``. After this, we can check its data type using the ``type()`` function."
   ]
  },
  {
   "cell_type": "code",
   "execution_count": 78,
   "id": "e578034b-2fd1-4ca1-bcae-d739c4305fd7",
   "metadata": {},
   "outputs": [
    {
     "data": {
      "text/plain": [
       "int"
      ]
     },
     "execution_count": 78,
     "metadata": {},
     "output_type": "execute_result"
    }
   ],
   "source": [
    "type(4)"
   ]
  },
  {
   "cell_type": "code",
   "execution_count": 79,
   "id": "ae52281c-8dfb-4694-ba5f-7fc8e04176fe",
   "metadata": {},
   "outputs": [
    {
     "data": {
      "text/plain": [
       "float"
      ]
     },
     "execution_count": 79,
     "metadata": {},
     "output_type": "execute_result"
    }
   ],
   "source": [
    "type(4.)"
   ]
  },
  {
   "cell_type": "code",
   "execution_count": 82,
   "id": "b65b615b-8a65-4c25-84b7-b1986b043771",
   "metadata": {},
   "outputs": [],
   "source": [
    "weatherForecast = 'Hot'"
   ]
  },
  {
   "cell_type": "code",
   "execution_count": 85,
   "id": "8dc5c10a-3cce-4f5f-b6a5-befa82f2ce08",
   "metadata": {},
   "outputs": [
    {
     "data": {
      "text/plain": [
       "str"
      ]
     },
     "execution_count": 85,
     "metadata": {},
     "output_type": "execute_result"
    }
   ],
   "source": [
    "type(weatherForecast)"
   ]
  },
  {
   "cell_type": "markdown",
   "id": "8cbd03c0-59fa-4b9e-8d7b-2f7ff66a9b97",
   "metadata": {},
   "source": [
    "Let's also check the type of ``tempFahrenheit``. What happens if you try to combine ``tempFahrenheit`` and ``weatherForecast`` in a single math equation such as ``tempFahrenheit + 5.0 * weatherForecast``?"
   ]
  },
  {
   "cell_type": "code",
   "execution_count": 87,
   "id": "f03844f8-be72-4bee-87ae-607514469cdc",
   "metadata": {},
   "outputs": [
    {
     "ename": "TypeError",
     "evalue": "can't multiply sequence by non-int of type 'float'",
     "output_type": "error",
     "traceback": [
      "\u001b[1;31m---------------------------------------------------------------------------\u001b[0m",
      "\u001b[1;31mTypeError\u001b[0m                                 Traceback (most recent call last)",
      "\u001b[1;32m~\\AppData\\Local\\Temp\\ipykernel_16396\\1098933917.py\u001b[0m in \u001b[0;36m<module>\u001b[1;34m\u001b[0m\n\u001b[1;32m----> 1\u001b[1;33m \u001b[0mtempFahrenheit\u001b[0m \u001b[1;33m+\u001b[0m \u001b[1;36m5.0\u001b[0m\u001b[1;33m*\u001b[0m\u001b[0mweatherForecast\u001b[0m\u001b[1;33m\u001b[0m\u001b[1;33m\u001b[0m\u001b[0m\n\u001b[0m",
      "\u001b[1;31mTypeError\u001b[0m: can't multiply sequence by non-int of type 'float'"
     ]
    }
   ],
   "source": [
    "tempFahrenheit + 5.0*weatherForecast"
   ]
  },
  {
   "cell_type": "markdown",
   "id": "73430d5a-3494-4e5e-80b6-71bf8c3b35b9",
   "metadata": {},
   "source": [
    "In this case we get at ``TypeError`` because we are trying to execute a math operation with data types that are not compatible. There is no way in Python to multpily numbers with a character string."
   ]
  },
  {
   "cell_type": "code",
   "execution_count": 88,
   "id": "bc002e2b-27bc-45f7-bf71-7c9a4c16f429",
   "metadata": {},
   "outputs": [
    {
     "data": {
      "text/plain": [
       "float"
      ]
     },
     "execution_count": 88,
     "metadata": {},
     "output_type": "execute_result"
    }
   ],
   "source": [
    "type(tempFahrenheit)"
   ]
  },
  {
   "cell_type": "code",
   "execution_count": 89,
   "id": "8e0e63d0-3143-4b3f-8c92-8ded2914c743",
   "metadata": {},
   "outputs": [
    {
     "data": {
      "text/plain": [
       "str"
      ]
     },
     "execution_count": 89,
     "metadata": {},
     "output_type": "execute_result"
    }
   ],
   "source": [
    "type(weatherForecast)"
   ]
  },
  {
   "cell_type": "markdown",
   "id": "21eac0ca-3086-4892-864d-2c3a34c5fd37",
   "metadata": {},
   "source": [
    "#### Check your understanding\n",
    "\n",
    "As it turns out, you can do some math with character strings in Python. Define two variables and assign them character string values in the Python cell below. What happens if you try to add two character strings together? Can you subtract them? Which other math operations work for character strings?"
   ]
  },
  {
   "cell_type": "code",
   "execution_count": 92,
   "id": "a2c61022-35ce-4404-9a96-a41692c316ac",
   "metadata": {},
   "outputs": [],
   "source": [
    "first_variable = 'The weather is '\n",
    "weatherForecast = 'Hot'"
   ]
  },
  {
   "cell_type": "code",
   "execution_count": 93,
   "id": "4faa97ce-575f-4376-9422-3e1840b71348",
   "metadata": {},
   "outputs": [
    {
     "name": "stdout",
     "output_type": "stream",
     "text": [
      "The weather is Hot\n"
     ]
    }
   ],
   "source": [
    "print(first_variable + weatherForecast)"
   ]
  },
  {
   "cell_type": "code",
   "execution_count": 94,
   "id": "8ecfc9cc-44fd-4ce2-8465-f26c126801a2",
   "metadata": {},
   "outputs": [
    {
     "name": "stdout",
     "output_type": "stream",
     "text": [
      "The weather is The weather is The weather is The weather is The weather is \n"
     ]
    }
   ],
   "source": [
    "print(5*first_variable)"
   ]
  },
  {
   "cell_type": "code",
   "execution_count": 95,
   "id": "2e21eb38-481f-4654-bc7a-0ceb48c6ef36",
   "metadata": {},
   "outputs": [
    {
     "ename": "TypeError",
     "evalue": "unsupported operand type(s) for -: 'str' and 'str'",
     "output_type": "error",
     "traceback": [
      "\u001b[1;31m---------------------------------------------------------------------------\u001b[0m",
      "\u001b[1;31mTypeError\u001b[0m                                 Traceback (most recent call last)",
      "\u001b[1;32m~\\AppData\\Local\\Temp\\ipykernel_16396\\1924461099.py\u001b[0m in \u001b[0;36m<module>\u001b[1;34m\u001b[0m\n\u001b[1;32m----> 1\u001b[1;33m \u001b[0mprint\u001b[0m\u001b[1;33m(\u001b[0m\u001b[0mfirst_variable\u001b[0m\u001b[1;33m-\u001b[0m\u001b[0mweatherForecast\u001b[0m\u001b[1;33m)\u001b[0m\u001b[1;33m\u001b[0m\u001b[1;33m\u001b[0m\u001b[0m\n\u001b[0m",
      "\u001b[1;31mTypeError\u001b[0m: unsupported operand type(s) for -: 'str' and 'str'"
     ]
    }
   ],
   "source": [
    "print(first_variable-weatherForecast)"
   ]
  },
  {
   "cell_type": "markdown",
   "id": "fcfe37c1-7f8c-47e4-9172-0f427aacffe2",
   "metadata": {},
   "source": [
    "### Character input\n",
    "\n",
    "Python and Jupyter notebooks also let us interact in another way with our code! The built-in [input()](https://docs.python.org/3.6/library/functions.html?highlight=input#input) function reads a line from input and returns it as a string.\n",
    "\n",
    "Let's try it out. To start, we can define a varaible ``place`` and assign its value using the ``input()`` function to prompt the user for the location where they are from (e.g., ``input('Where are you from? ')``). When the cell is run, the user (you) can type in their response. Once ``place`` is defined, we can say something good about where the user is from (e.g., ``print(place, 'is a nice place!')``).\n",
    "\n",
    "```{warning}\n",
    "Jupyter Notebooks might sometimes get stuck when using the `input()` function. If this happens, restart the kernel and run the cell again (**Kernel** -> **Restart Kernel...**).```"
   ]
  },
  {
   "cell_type": "code",
   "execution_count": 99,
   "id": "702bc870-7e73-4968-9a5f-6af7f67fd4fa",
   "metadata": {},
   "outputs": [
    {
     "name": "stdin",
     "output_type": "stream",
     "text": [
      "Where are you from? quezon city\n"
     ]
    },
    {
     "name": "stdout",
     "output_type": "stream",
     "text": [
      "quezon city is a nice place!\n"
     ]
    }
   ],
   "source": [
    "place = input(\"Where are you from?\")\n",
    "print(place, 'is a nice place!')"
   ]
  },
  {
   "cell_type": "markdown",
   "id": "55cb0f29-6548-4074-a8ad-69217819b33b",
   "metadata": {},
   "source": [
    "Let's try another example in the cell below using the similar approach. Ask the user for a temperature in Celsius using the ``input()`` function and print the input value to the screen."
   ]
  },
  {
   "cell_type": "code",
   "execution_count": 100,
   "id": "60cb72fc-8e0e-4847-b938-c40ee584b510",
   "metadata": {},
   "outputs": [
    {
     "name": "stdin",
     "output_type": "stream",
     "text": [
      "What is the temperature??? 32\n"
     ]
    },
    {
     "name": "stdout",
     "output_type": "stream",
     "text": [
      "The temperature is 32\n"
     ]
    }
   ],
   "source": [
    "temperature = input('What is the temperature???')\n",
    "print('The temperature is', temperature)"
   ]
  },
  {
   "cell_type": "markdown",
   "id": "6d85a083-d8a7-4edf-b07a-3a8171cbb2f7",
   "metadata": {},
   "source": [
    "What is the data type of variable `place`? What about the other variable you defined? Check their data types using the cell below."
   ]
  },
  {
   "cell_type": "code",
   "execution_count": 111,
   "id": "751b183f-ab82-4b7c-8d38-81802c611188",
   "metadata": {},
   "outputs": [
    {
     "name": "stdin",
     "output_type": "stream",
     "text": [
      "what is the temp??? 30\n"
     ]
    },
    {
     "name": "stdout",
     "output_type": "stream",
     "text": [
      "86.0\n"
     ]
    }
   ],
   "source": [
    "temp = input(\"what is the temp???\")\n",
    "print((9/5) * float(temp) + 32)"
   ]
  },
  {
   "cell_type": "code",
   "execution_count": 110,
   "id": "168e95b3-dec7-41a3-8fcb-937e8369031d",
   "metadata": {},
   "outputs": [
    {
     "data": {
      "text/plain": [
       "str"
      ]
     },
     "execution_count": 110,
     "metadata": {},
     "output_type": "execute_result"
    }
   ],
   "source": [
    "type(temp)"
   ]
  },
  {
   "cell_type": "markdown",
   "id": "8469c473-92d8-4f5c-b219-654e93db605b",
   "metadata": {},
   "source": [
    "What happens when you try to convert your Celsius temperature value to Fahrenheit using the equation from earlier in the lesson?"
   ]
  }
 ],
 "metadata": {
  "kernelspec": {
   "display_name": "Python 3 (ipykernel)",
   "language": "python",
   "name": "python3"
  },
  "language_info": {
   "codemirror_mode": {
    "name": "ipython",
    "version": 3
   },
   "file_extension": ".py",
   "mimetype": "text/x-python",
   "name": "python",
   "nbconvert_exporter": "python",
   "pygments_lexer": "ipython3",
   "version": "3.7.16"
  }
 },
 "nbformat": 4,
 "nbformat_minor": 5
}
